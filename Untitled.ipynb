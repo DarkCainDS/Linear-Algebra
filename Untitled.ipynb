{
 "cells": [
  {
   "cell_type": "code",
   "execution_count": 1,
   "id": "77a20382-f6c1-4005-9797-d7d5a38cd0f8",
   "metadata": {},
   "outputs": [
    {
     "name": "stdout",
     "output_type": "stream",
     "text": [
      "3.11.7\n"
     ]
    }
   ],
   "source": [
    "from platform import python_version\n",
    "\n",
    "print(python_version())"
   ]
  },
  {
   "cell_type": "code",
   "execution_count": 2,
   "id": "c52240de-2f7c-41aa-89e9-adabd03fec85",
   "metadata": {},
   "outputs": [
    {
     "name": "stdout",
     "output_type": "stream",
     "text": [
      "Hello Hackerman\n"
     ]
    }
   ],
   "source": [
    "print(\"Hello Hackerman\")"
   ]
  },
  {
   "cell_type": "code",
   "execution_count": null,
   "id": "648f1c04-c7bc-4225-a643-9b0f6d21bf7b",
   "metadata": {},
   "outputs": [],
   "source": [
    "# 12\n",
    "# 12\n",
    "# 32\n",
    "# 65\n",
    "# 4\n",
    "# 1\n",
    "# 25\n"
   ]
  }
 ],
 "metadata": {
  "kernelspec": {
   "display_name": "Python 3 (ipykernel)",
   "language": "python",
   "name": "python3"
  },
  "language_info": {
   "codemirror_mode": {
    "name": "ipython",
    "version": 3
   },
   "file_extension": ".py",
   "mimetype": "text/x-python",
   "name": "python",
   "nbconvert_exporter": "python",
   "pygments_lexer": "ipython3",
   "version": "3.11.7"
  }
 },
 "nbformat": 4,
 "nbformat_minor": 5
}
